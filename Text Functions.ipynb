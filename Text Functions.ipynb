{
 "cells": [
  {
   "cell_type": "code",
   "execution_count": 1,
   "metadata": {},
   "outputs": [],
   "source": [
    "import pandas as pd\n",
    "import pymongo\n",
    "import pprint\n",
    "\n",
    "client = pymongo.MongoClient (host=\"da1.eecs.utk.edu\")\n",
    "db = client ['GDA']\n",
    "coll = db ['NYT']\n",
    "\n",
    "def get_total_count():\n",
    "    print('Total NYT articles {0}'.format(str(coll.count_documents({}))))\n",
    "\n",
    "def article_count_by_generation():\n",
    "    boom=[]\n",
    "    genX=[]\n",
    "    genY=[]\n",
    "    genZ=[]\n",
    "\n",
    "    cursor = coll.aggregate( [{ '$match': { 'year' : { '$gte' : 1960, '$lte' : 1964 } } },{'$count': 'Article Count'}] )\n",
    "    boom = list(cursor)\n",
    "    cursor = coll.aggregate( [{ '$match': { 'year' : { '$gte' : 1965, '$lte' : 1979 } } },{'$count': 'Article Count'}] )\n",
    "    genX = list(cursor)\n",
    "    cursor = coll.aggregate( [{ '$match': { 'year' : { '$gte' : 1980, '$lte' : 1999 } } },{'$count': 'Article Count'}] )\n",
    "    genY = list(cursor)\n",
    "    cursor = coll.aggregate( [{ '$match': { 'year' : { '$gte' : 2000, '$lte' : 2019 } } },{'$count': 'Article Count'}] )\n",
    "    genZ = list(cursor)\n",
    "\n",
    "    df = pd.DataFrame(boom+genX+genY+genZ, index =['Boomers: 1960 to 1964',\n",
    "                                                   'Gen X:   1965 to 1979',\n",
    "                                                   'Gen Y:   1980 to 2000',\n",
    "                                                   'Gen Z:   2000 to 2019'],\n",
    "                      columns =['Article Count']) \n",
    "    display(df)\n",
    "    display(df.sum())\n",
    "\n",
    "def get_dataframe_by_year(year):\n",
    "    cursor = coll.aggregate( [{ '$match': { 'year' : { '$eq' : year} } }] )\n",
    "    df = pd.DataFrame(list(cursor))\n",
    "    return df"
   ]
  },
  {
   "cell_type": "code",
   "execution_count": 6,
   "metadata": {},
   "outputs": [
    {
     "name": "stdout",
     "output_type": "stream",
     "text": [
      "Total NYT articles 1934\n"
     ]
    }
   ],
   "source": [
    "get_total_count()"
   ]
  },
  {
   "cell_type": "code",
   "execution_count": null,
   "metadata": {},
   "outputs": [],
   "source": []
  }
 ],
 "metadata": {
  "kernelspec": {
   "display_name": "Python 3",
   "language": "python",
   "name": "python3"
  },
  "language_info": {
   "codemirror_mode": {
    "name": "ipython",
    "version": 3
   },
   "file_extension": ".py",
   "mimetype": "text/x-python",
   "name": "python",
   "nbconvert_exporter": "python",
   "pygments_lexer": "ipython3",
   "version": "3.6.7"
  }
 },
 "nbformat": 4,
 "nbformat_minor": 2
}
