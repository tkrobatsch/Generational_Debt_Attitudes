{
 "cells": [
  {
   "cell_type": "code",
   "execution_count": 125,
   "metadata": {},
   "outputs": [],
   "source": [
    "# import libraries\n",
    "import pprint\n",
    "import requests\n",
    "import re\n",
    "import pyjq\n",
    "import json\n",
    "from newspaper import Article\n",
    "import pymongo\n",
    "import datetime\n",
    "from dateutil.rrule import rrule, MONTHLY\n",
    "import math\n",
    "import time\n",
    "\n",
    "client = pymongo.MongoClient (host=\"da1.eecs.utk.edu\")\n",
    "db = client ['GDA']\n",
    "coll = db ['NYT']\n",
    "#clean this up for now\n",
    "#coll.drop()\n",
    "\n",
    "start = 1960\n",
    "end = 2020\n",
    "years = []\n",
    "for i in range(end-start):\n",
    "    years.append(start + i)\n",
    "\n",
    "api_key = 'mXe9rrak6WGZA7H2zzeGejAbh0LoCAzY'\n",
    "\n",
    "for i in range(len(years)):    \n",
    "    url = 'https://api.nytimes.com/svc/search/v2/articlesearch.json?q=student+loan&fq=pub_year:(\"'+str(years[i])+'\")&api-key=' + api_key\n",
    "    r = requests .get(url)\n",
    "    json_data = r.json()\n",
    "    meta = pyjq.all('.response .meta',json_data)\n",
    "    pages = math.ceil(meta[0]['hits']/10)\n",
    "    time.sleep(20)\n",
    "    for p in range(pages):\n",
    "        url = 'https://api.nytimes.com/svc/search/v2/articlesearch.json?q=student+loan&'+str(p)+'fq=pub_year:(\"'+str(years[i])+'\")&api-key=' + api_key\n",
    "        r = requests .get(url)\n",
    "        json_data = r.json()\n",
    "        count = pyjq.all('.response .docs | length',json_data)[0]\n",
    "        urls = pyjq.all('.response .docs[] .web_url',json_data)\n",
    "        #years = pyjq.all('.response .docs[] .pub_year',json_data)\n",
    "\n",
    "        for j in range(count):\n",
    "            toi_article = Article(urls[j], language=\"en\")\n",
    "            try:\n",
    "                toi_article.download() \n",
    "            except:\n",
    "                continue\n",
    "            try:\n",
    "                toi_article.parse() \n",
    "            except:\n",
    "                continue\n",
    "            try:\n",
    "                toi_article.nlp() \n",
    "            except:\n",
    "                continue\n",
    "\n",
    "            coll.insert_one ( {'title':toi_article.title,\n",
    "                               'text': toi_article.text,\n",
    "                               'summary': toi_article.summary, \n",
    "                               'keywords': toi_article.keywords, \n",
    "                               'year':years[i],\n",
    "                               'url': urls[j] } )\n",
    "        time.sleep(10)"
   ]
  },
  {
   "cell_type": "code",
   "execution_count": 137,
   "metadata": {},
   "outputs": [
    {
     "name": "stdout",
     "output_type": "stream",
     "text": [
      "Total NYT articles 19738\n"
     ]
    }
   ],
   "source": [
    "client = pymongo.MongoClient (host=\"da1.eecs.utk.edu\")\n",
    "db = client ['GDA']\n",
    "coll = db ['NYT']\n",
    "\n",
    "print('Total NYT articles {0}'.format(str(coll.count_documents({}))))"
   ]
  },
  {
   "cell_type": "code",
   "execution_count": null,
   "metadata": {},
   "outputs": [],
   "source": [
    "client = pymongo.MongoClient (host=\"da1.eecs.utk.edu\")\n",
    "db = client ['GDA']\n",
    "coll = db ['NYT']\n",
    "pp = pprint.PrettyPrinter(indent=1,width=65)\n",
    "for r in coll. find():\n",
    "  print(pp .pformat (r))"
   ]
  },
  {
   "cell_type": "code",
   "execution_count": 195,
   "metadata": {},
   "outputs": [
    {
     "data": {
      "text/html": [
       "<div>\n",
       "<style scoped>\n",
       "    .dataframe tbody tr th:only-of-type {\n",
       "        vertical-align: middle;\n",
       "    }\n",
       "\n",
       "    .dataframe tbody tr th {\n",
       "        vertical-align: top;\n",
       "    }\n",
       "\n",
       "    .dataframe thead th {\n",
       "        text-align: right;\n",
       "    }\n",
       "</style>\n",
       "<table border=\"1\" class=\"dataframe\">\n",
       "  <thead>\n",
       "    <tr style=\"text-align: right;\">\n",
       "      <th></th>\n",
       "      <th>Article Count</th>\n",
       "    </tr>\n",
       "  </thead>\n",
       "  <tbody>\n",
       "    <tr>\n",
       "      <th>Boomers: 1960 to 1964</th>\n",
       "      <td>270</td>\n",
       "    </tr>\n",
       "    <tr>\n",
       "      <th>Gen X:   1965 to 1979</th>\n",
       "      <td>2810</td>\n",
       "    </tr>\n",
       "    <tr>\n",
       "      <th>Gen Y:   1980 to 2000</th>\n",
       "      <td>6890</td>\n",
       "    </tr>\n",
       "    <tr>\n",
       "      <th>Gen Z:   2000 to 2019</th>\n",
       "      <td>9768</td>\n",
       "    </tr>\n",
       "  </tbody>\n",
       "</table>\n",
       "</div>"
      ],
      "text/plain": [
       "                       Article Count\n",
       "Boomers: 1960 to 1964            270\n",
       "Gen X:   1965 to 1979           2810\n",
       "Gen Y:   1980 to 2000           6890\n",
       "Gen Z:   2000 to 2019           9768"
      ]
     },
     "metadata": {},
     "output_type": "display_data"
    },
    {
     "data": {
      "text/plain": [
       "Article Count    19738\n",
       "dtype: int64"
      ]
     },
     "metadata": {},
     "output_type": "display_data"
    }
   ],
   "source": [
    "import pandas as pd\n",
    "\n",
    "client = pymongo.MongoClient (host=\"da1.eecs.utk.edu\")\n",
    "db = client ['GDA']\n",
    "coll = db ['NYT']\n",
    "\n",
    "boom=[]\n",
    "genX=[]\n",
    "genY=[]\n",
    "genZ=[]\n",
    "\n",
    "cursor = coll.aggregate( [{ '$match': { 'year' : { '$gte' : 1960, '$lte' : 1964 } } },{'$count': 'Article Count'}] )\n",
    "boom = list(cursor)\n",
    "cursor = coll.aggregate( [{ '$match': { 'year' : { '$gte' : 1965, '$lte' : 1979 } } },{'$count': 'Article Count'}] )\n",
    "genX = list(cursor)\n",
    "cursor = coll.aggregate( [{ '$match': { 'year' : { '$gte' : 1980, '$lte' : 1999 } } },{'$count': 'Article Count'}] )\n",
    "genY = list(cursor)\n",
    "cursor = coll.aggregate( [{ '$match': { 'year' : { '$gte' : 2000, '$lte' : 2019 } } },{'$count': 'Article Count'}] )\n",
    "genZ = list(cursor)\n",
    "\n",
    "df = pd.DataFrame(boom+genX+genY+genZ, index =['Boomers: 1960 to 1964',\n",
    "                                               'Gen X:   1965 to 1979',\n",
    "                                               'Gen Y:   1980 to 2000',\n",
    "                                               'Gen Z:   2000 to 2019'],\n",
    "                  columns =['Article Count']) \n",
    "display(df)\n",
    "display(df.sum())"
   ]
  },
  {
   "cell_type": "code",
   "execution_count": null,
   "metadata": {},
   "outputs": [],
   "source": []
  }
 ],
 "metadata": {
  "kernelspec": {
   "display_name": "Python 3",
   "language": "python",
   "name": "python3"
  },
  "language_info": {
   "codemirror_mode": {
    "name": "ipython",
    "version": 3
   },
   "file_extension": ".py",
   "mimetype": "text/x-python",
   "name": "python",
   "nbconvert_exporter": "python",
   "pygments_lexer": "ipython3",
   "version": "3.6.7"
  }
 },
 "nbformat": 4,
 "nbformat_minor": 2
}
