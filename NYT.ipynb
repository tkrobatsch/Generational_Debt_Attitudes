{
 "cells": [
  {
   "cell_type": "code",
   "execution_count": 224,
   "metadata": {},
   "outputs": [
    {
     "name": "stdout",
     "output_type": "stream",
     "text": [
      "Working on Year 1960. There are 4 page(s)\n",
      "Working on Year 1961. There are 3 page(s)\n",
      "Working on Year 1962. There are 2 page(s)\n",
      "Working on Year 1963. There are 2 page(s)\n",
      "Working on Year 1964. There are 56 page(s)\n"
     ]
    },
    {
     "name": "stderr",
     "output_type": "stream",
     "text": [
      "ERROR:root:Internal Python error in the inspect module.\n",
      "Below is the traceback from this internal error.\n",
      "\n"
     ]
    },
    {
     "name": "stdout",
     "output_type": "stream",
     "text": [
      "Traceback (most recent call last):\n",
      "  File \"/usr/local/lib/python3.6/dist-packages/IPython/core/interactiveshell.py\", line 3267, in run_code\n",
      "    exec(code_obj, self.user_global_ns, self.user_ns)\n",
      "  File \"<ipython-input-224-c2930ae6e44a>\", line 63, in <module>\n",
      "    time.sleep(6)\n",
      "KeyboardInterrupt\n",
      "\n",
      "During handling of the above exception, another exception occurred:\n",
      "\n",
      "Traceback (most recent call last):\n",
      "  File \"/usr/local/lib/python3.6/dist-packages/IPython/core/interactiveshell.py\", line 2018, in showtraceback\n",
      "    stb = value._render_traceback_()\n",
      "AttributeError: 'KeyboardInterrupt' object has no attribute '_render_traceback_'\n",
      "\n",
      "During handling of the above exception, another exception occurred:\n",
      "\n",
      "Traceback (most recent call last):\n",
      "  File \"/usr/local/lib/python3.6/dist-packages/IPython/core/ultratb.py\", line 1095, in get_records\n",
      "    return _fixed_getinnerframes(etb, number_of_lines_of_context, tb_offset)\n",
      "  File \"/usr/local/lib/python3.6/dist-packages/IPython/core/ultratb.py\", line 313, in wrapped\n",
      "    return f(*args, **kwargs)\n",
      "  File \"/usr/local/lib/python3.6/dist-packages/IPython/core/ultratb.py\", line 347, in _fixed_getinnerframes\n",
      "    records = fix_frame_records_filenames(inspect.getinnerframes(etb, context))\n",
      "  File \"/usr/lib/python3.6/inspect.py\", line 1488, in getinnerframes\n",
      "    frameinfo = (tb.tb_frame,) + getframeinfo(tb, context)\n",
      "  File \"/usr/lib/python3.6/inspect.py\", line 1446, in getframeinfo\n",
      "    filename = getsourcefile(frame) or getfile(frame)\n",
      "  File \"/usr/lib/python3.6/inspect.py\", line 696, in getsourcefile\n",
      "    if getattr(getmodule(object, filename), '__loader__', None) is not None:\n",
      "  File \"/usr/lib/python3.6/inspect.py\", line 725, in getmodule\n",
      "    file = getabsfile(object, _filename)\n",
      "  File \"/usr/lib/python3.6/inspect.py\", line 709, in getabsfile\n",
      "    return os.path.normcase(os.path.abspath(_filename))\n",
      "  File \"/usr/lib/python3.6/posixpath.py\", line 376, in abspath\n",
      "    cwd = os.getcwd()\n",
      "FileNotFoundError: [Errno 2] No such file or directory\n"
     ]
    },
    {
     "ename": "KeyboardInterrupt",
     "evalue": "",
     "output_type": "error",
     "traceback": [
      "\u001b[0;31m---------------------------------------------------------------------------\u001b[0m"
     ]
    }
   ],
   "source": [
    "# import libraries\n",
    "import requests\n",
    "import re\n",
    "import pyjq\n",
    "import json\n",
    "from newspaper import Article\n",
    "import pymongo\n",
    "import datetime\n",
    "from dateutil.rrule import rrule, MONTHLY\n",
    "import math\n",
    "import time\n",
    "\n",
    "client = pymongo.MongoClient (host=\"da1.eecs.utk.edu\")\n",
    "db = client ['GDA']\n",
    "coll = db ['NYT']\n",
    "#clean this up for now\n",
    "coll.drop()\n",
    "\n",
    "start = 1960\n",
    "end = 2020\n",
    "years = []\n",
    "for i in range(end-start):\n",
    "    years.append(start + i)\n",
    "\n",
    "api_key = 'mXe9rrak6WGZA7H2zzeGejAbh0LoCAzY'\n",
    "\n",
    "for i in range(len(years)):    \n",
    "    url_out = 'https://api.nytimes.com/svc/search/v2/articlesearch.json?q=student+loan&fq=pub_year:(\"'+str(years[i])+'\")&api-key=' + api_key\n",
    "    r = requests .get(url_out)\n",
    "    json_data = r.json()\n",
    "    meta = pyjq.all('.response .meta',json_data)\n",
    "    pages = math.ceil(meta[0]['hits']/10)\n",
    "    print('Working on Year {0}. There are {1} page(s)'.format(years[i],pages))\n",
    "    for p in range(pages):   \n",
    "        url_in = 'https://api.nytimes.com/svc/search/v2/articlesearch.json?q=student+loan&fq=pub_year:(\"'+str(years[i])+'\")&page='+str(p)+'&api-key='+ api_key\n",
    "        #print('Page {0} of {1}'.format(p,pages))\n",
    "        r = requests .get(url_in)\n",
    "        json_data = r.json()\n",
    "        count = pyjq.all('.response .docs | length',json_data)[0]\n",
    "        urls = pyjq.all('.response .docs[] .web_url',json_data)\n",
    "\n",
    "        for j in range(count):\n",
    "            toi_article = Article(urls[j], language=\"en\")\n",
    "            try:\n",
    "                toi_article.download() \n",
    "            except:\n",
    "                continue\n",
    "            try:\n",
    "                toi_article.parse() \n",
    "            except:\n",
    "                continue\n",
    "            try:\n",
    "                toi_article.nlp() \n",
    "            except:\n",
    "                continue\n",
    "            coll.insert_one ( {'title':toi_article.title,\n",
    "                   'text': toi_article.text,\n",
    "                   'summary': toi_article.summary, \n",
    "                   'keywords': toi_article.keywords, \n",
    "                   'year':years[i],\n",
    "                   'url': urls[j] } )\n",
    "        time.sleep(6)"
   ]
  },
  {
   "cell_type": "code",
   "execution_count": null,
   "metadata": {},
   "outputs": [],
   "source": []
  }
 ],
 "metadata": {
  "kernelspec": {
   "display_name": "Python 3",
   "language": "python",
   "name": "python3"
  },
  "language_info": {
   "codemirror_mode": {
    "name": "ipython",
    "version": 3
   },
   "file_extension": ".py",
   "mimetype": "text/x-python",
   "name": "python",
   "nbconvert_exporter": "python",
   "pygments_lexer": "ipython3",
   "version": "3.6.7"
  }
 },
 "nbformat": 4,
 "nbformat_minor": 2
}
