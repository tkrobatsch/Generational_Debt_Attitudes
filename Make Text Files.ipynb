{
 "cells": [
  {
   "cell_type": "code",
   "execution_count": 1,
   "metadata": {},
   "outputs": [],
   "source": [
    "import pymongo\n",
    "\n",
    "client = pymongo.MongoClient (host=\"da1.eecs.utk.edu\")\n",
    "db = client ['GDA']\n",
    "coll = db ['NYT']\n",
    "\n",
    "def get_text_by_generation():\n",
    "    boom = ''\n",
    "    genX = ''\n",
    "    genY = ''\n",
    "    genZ = ''\n",
    "\n",
    "    cursor = coll.aggregate( [{ '$match': { 'year' : { '$gte' : 1960, '$lte' : 1964 } } }] )\n",
    "    for record in cursor:\n",
    "        boom = boom + record ['text']\n",
    "      \n",
    "    cursor = coll.aggregate( [{ '$match': { 'year' : { '$gte' : 1965, '$lte' : 1979 } } }] )\n",
    "    for record in cursor:\n",
    "        genX = genX + record ['text']\n",
    "        \n",
    "    cursor = coll.aggregate( [{ '$match': { 'year' : { '$gte' : 1980, '$lte' : 1999 } } }] )\n",
    "    for record in cursor:\n",
    "        genY = genY + record ['text']\n",
    "        \n",
    "    cursor = coll.aggregate( [{ '$match': { 'year' : { '$gte' : 2000, '$lte' : 2019 } } }] )\n",
    "    for record in cursor:\n",
    "        genZ = genZ + record ['text']\n",
    "        \n",
    "    return boom, genX, genY, genZ, boom+genX+genY+genZ\n",
    "\n",
    "def write_text_files(boom, genX, genY, genZ, all_text):\n",
    "    f = open('okboomer.data', 'wb')\n",
    "    f.write(boom.encode('utf8'))\n",
    "    \n",
    "    f = open('genX.data', 'wb')\n",
    "    f.write(genX.encode('utf8'))\n",
    "    \n",
    "    f = open('genY.data', 'wb')\n",
    "    f.write(genY.encode('utf8'))\n",
    "    \n",
    "    f = open('genZ.data', 'wb')\n",
    "    f.write(genZ.encode('utf8'))\n",
    "    \n",
    "    f = open('all.data', 'wb')\n",
    "    f.write(all_text.encode('utf8'))\n",
    "    \n",
    "    f.close()"
   ]
  },
  {
   "cell_type": "code",
   "execution_count": 2,
   "metadata": {},
   "outputs": [],
   "source": [
    "boom, genX, genY, genZ, all_text = get_text_by_generation()\n",
    "write_text_files(boom, genX, genY, genZ, all_text)"
   ]
  },
  {
   "cell_type": "code",
   "execution_count": null,
   "metadata": {},
   "outputs": [],
   "source": []
  }
 ],
 "metadata": {
  "kernelspec": {
   "display_name": "Python 3",
   "language": "python",
   "name": "python3"
  },
  "language_info": {
   "codemirror_mode": {
    "name": "ipython",
    "version": 3
   },
   "file_extension": ".py",
   "mimetype": "text/x-python",
   "name": "python",
   "nbconvert_exporter": "python",
   "pygments_lexer": "ipython3",
   "version": "3.6.7"
  }
 },
 "nbformat": 4,
 "nbformat_minor": 2
}
